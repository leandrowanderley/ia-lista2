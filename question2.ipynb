{
 "cells": [
  {
   "cell_type": "code",
   "execution_count": null,
   "id": "60920d15",
   "metadata": {},
   "outputs": [],
   "source": [
    "import numpy as np\n",
    "import skfuzzy as fuzz\n",
    "from skfuzzy import control as ctrl\n",
    "import matplotlib.pyplot as plt"
   ]
  },
  {
   "cell_type": "markdown",
   "id": "241ecdb1",
   "metadata": {},
   "source": [
    "## Definição das variáveis fuzzy"
   ]
  },
  {
   "cell_type": "code",
   "execution_count": null,
   "id": "b89cf01b",
   "metadata": {},
   "outputs": [],
   "source": [
    "temperatura = ctrl.Antecedent(np.arange(0, 71, 1), 'temperatura')\n",
    "fluxo = ctrl.Antecedent(np.arange(0, 61, 1), 'fluxo')\n",
    "abertura = ctrl.Consequent(np.arange(0, 101, 1), 'abertura')"
   ]
  },
  {
   "cell_type": "markdown",
   "id": "4ea11a8c",
   "metadata": {},
   "source": [
    "## Fuzzificação - funções de pertinência"
   ]
  },
  {
   "cell_type": "code",
   "execution_count": null,
   "id": "640a8dd2",
   "metadata": {},
   "outputs": [],
   "source": [
    "temperatura['baixa'] = fuzz.trimf(temperatura.universe, [0, 0, 30])\n",
    "temperatura['media'] = fuzz.trimf(temperatura.universe, [20, 35, 50])\n",
    "temperatura['alta'] = fuzz.trimf(temperatura.universe, [40, 70, 70])\n",
    "\n",
    "fluxo['baixo'] = fuzz.trimf(fluxo.universe, [0, 0, 20])\n",
    "fluxo['medio'] = fuzz.trimf(fluxo.universe, [10, 30, 40])\n",
    "fluxo['alto'] = fuzz.trimf(fluxo.universe, [30, 60, 60])\n",
    "\n",
    "abertura['pequena'] = fuzz.trimf(abertura.universe, [0, 0, 30])\n",
    "abertura['moderada'] = fuzz.trimf(abertura.universe, [20, 50, 70])\n",
    "abertura['grande'] = fuzz.trimf(abertura.universe, [60, 100, 100])"
   ]
  },
  {
   "cell_type": "markdown",
   "id": "9c0f66dd",
   "metadata": {},
   "source": [
    "## Definição das regras fuzzy"
   ]
  },
  {
   "cell_type": "code",
   "execution_count": null,
   "id": "7df77c99",
   "metadata": {},
   "outputs": [],
   "source": [
    "rule1 = ctrl.Rule(temperatura['baixa'] & fluxo['alto'], abertura['grande'])\n",
    "rule2 = ctrl.Rule(temperatura['baixa'] & fluxo['medio'], abertura['moderada'])\n",
    "rule3 = ctrl.Rule(temperatura['media'] & fluxo['alto'], abertura['moderada'])\n",
    "rule4 = ctrl.Rule(temperatura['media'] & fluxo['baixo'], abertura['pequena'])\n",
    "rule5 = ctrl.Rule(temperatura['alta'] & fluxo['baixo'], abertura['pequena'])\n",
    "rule6 = ctrl.Rule(temperatura['alta'] & fluxo['alto'], abertura['moderada'])"
   ]
  },
  {
   "cell_type": "markdown",
   "id": "33ea3ffa",
   "metadata": {},
   "source": [
    "## Exemplo do sistema de controle"
   ]
  },
  {
   "cell_type": "code",
   "execution_count": null,
   "id": "637e7711",
   "metadata": {},
   "outputs": [],
   "source": [
    "sistema_ctrl = ctrl.ControlSystem([rule1, rule2, rule3, rule4, rule5, rule6])\n",
    "sistema = ctrl.ControlSystemSimulation(sistema_ctrl)\n",
    "\n",
    "sistema.input['temperatura'] = 25\n",
    "sistema.input['fluxo'] = 50\n",
    "sistema.compute()\n",
    "\n",
    "print(f\"Abertura da válvula: {sistema.output['abertura']:.2f}%\")\n",
    "abertura.view(sim=sistema)"
   ]
  }
 ],
 "metadata": {
  "language": "python",
  "language_info": {
   "name": "python"
  }
 },
 "nbformat": 4,
 "nbformat_minor": 5
}
